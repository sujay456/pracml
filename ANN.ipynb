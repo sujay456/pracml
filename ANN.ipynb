{
 "cells": [
  {
   "cell_type": "code",
   "execution_count": 1,
   "id": "d1383a3a",
   "metadata": {},
   "outputs": [],
   "source": [
    "import os\n",
    "from pathlib import Path\n",
    "from keras.preprocessing import image\n",
    "import matplotlib.pyplot as plt"
   ]
  },
  {
   "cell_type": "code",
   "execution_count": 2,
   "id": "7f25cf7d",
   "metadata": {},
   "outputs": [
    {
     "name": "stdout",
     "output_type": "stream",
     "text": [
      "176\n",
      "70\n",
      "199\n"
     ]
    }
   ],
   "source": [
    "p=Path('./pokemon')\n",
    "\n",
    "dirs=p.glob('*')\n",
    "\n",
    "image_data=[]\n",
    "labels=[]\n",
    "\n",
    "labels_dict={\"Bulbasaur\":1,\"Meowth\":2,\"Pikachu\":0}\n",
    "label2name={\"1\":\"Bulbasaur\",\"2\":\"Meowth\",\"0\":\"Pikachu\"}\n",
    "\n",
    "for folder_dir in dirs:\n",
    "    pokemon_name=str(folder_dir).split('\\\\')[-1]\n",
    "    \n",
    "    cnt=0\n",
    "    \n",
    "    for img_path in folder_dir.glob(\"*.jpg\"):\n",
    "        img=image.load_img(img_path,target_size=(40,40))  #we have resized every image to same size\n",
    "        img_array=image.img_to_array(img)\n",
    "        \n",
    "        image_data.append(img_array)\n",
    "        labels.append(labels_dict[pokemon_name])\n",
    "        cnt+=1\n",
    "    print(cnt)\n",
    "        "
   ]
  },
  {
   "cell_type": "code",
   "execution_count": 3,
   "id": "9cb8b020",
   "metadata": {},
   "outputs": [],
   "source": [
    "import numpy as np"
   ]
  },
  {
   "cell_type": "code",
   "execution_count": 4,
   "id": "0c3a7c68",
   "metadata": {},
   "outputs": [],
   "source": [
    "X=np.array(image_data,dtype=int)\n",
    "Y=np.array(labels,dtype=int)\n",
    "\n",
    "\n",
    "from sklearn.utils import shuffle\n",
    "X,Y=shuffle(X,Y,random_state=2)\n",
    "\n",
    "# normalization\n",
    "X=X/255"
   ]
  },
  {
   "cell_type": "code",
   "execution_count": 5,
   "id": "3aa3e4a7",
   "metadata": {},
   "outputs": [],
   "source": [
    "def drawImg(img,label):\n",
    "    print(label)\n",
    "    plt.imshow(img)\n",
    "    plt.axis(\"off\")\n",
    "    plt.show()"
   ]
  },
  {
   "cell_type": "code",
   "execution_count": 6,
   "id": "6e4b46b4",
   "metadata": {},
   "outputs": [
    {
     "name": "stdout",
     "output_type": "stream",
     "text": [
      "2\n"
     ]
    },
    {
     "data": {
      "image/png": "[encoded data removed]",
      "text/plain": [
       "<Figure size 432x288 with 1 Axes>"
      ]
     },
     "metadata": {
      "needs_background": "light"
     },
     "output_type": "display_data"
    }
   ],
   "source": [
    "drawImg(X[103],Y[103])"
   ]
  },
  {
   "cell_type": "code",
   "execution_count": 7,
   "id": "a7d782db",
   "metadata": {},
   "outputs": [
    {
     "name": "stdout",
     "output_type": "stream",
     "text": [
      "(333, 40, 40, 3)\n",
      "(333,)\n",
      "(112, 40, 40, 3)\n",
      "(112,)\n"
     ]
    }
   ],
   "source": [
    "from sklearn.model_selection import train_test_split\n",
    "\n",
    "x_train,x_test,y_train,y_test=train_test_split(X,Y)\n",
    "\n",
    "print(x_train.shape)\n",
    "print(y_train.shape)\n",
    "print(x_test.shape)\n",
    "print(y_test.shape)\n"
   ]
  },
  {
   "cell_type": "code",
   "execution_count": 67,
   "id": "4c4f6f36",
   "metadata": {},
   "outputs": [],
   "source": [
    "def softmax(z):\n",
    "    ea=np.exp(z)\n",
    "    ea=ea/(np.sum(ea,axis=1,keepdims=True))\n",
    "    return ea\n",
    "class NeuralNetwork:\n",
    "    def __init__(self,input_size,layers,output_size):\n",
    "        self.input_size=input_size\n",
    "        self.layers=layers\n",
    "        self.output_size=output_size\n",
    "        np.random.seed(0)\n",
    "        model = {}\n",
    "        model['W1'] = np.random.randn(input_size,layers[0]) \n",
    "        model['b1'] = np.zeros((1,layers[0]))\n",
    "        \n",
    "        model['W2'] = np.random.randn(layers[0],layers[1])\n",
    "        model['b2'] = np.zeros((1,layers[1]))\n",
    "        \n",
    "        model['W3'] = np.random.randn(layers[1],output_size)\n",
    "        model['b3'] = np.zeros((1,output_size))\n",
    "    \n",
    "        self.model=model\n",
    "        \n",
    "    def forward(self,x):\n",
    "        \n",
    "        W1,W2,W3 = self.model['W1'],self.model['W2'],self.model['W3']\n",
    "        b1,b2,b3 = self.model['b1'],self.model['b2'],self.model['b3']\n",
    "        \n",
    "        z1=np.dot(x,W1) + b1\n",
    "        a1=np.tanh(z1)\n",
    "        \n",
    "        z2=np.dot(a1,W2) + b2\n",
    "        a2=np.tanh(z2)\n",
    "        \n",
    "        z3=np.dot(a2,W3)+b3\n",
    "        y_=softmax(z3)\n",
    "        \n",
    "        self.activation_outputs = (a1,a2,y_)\n",
    "        return y_\n",
    "    def backward(self,x,y,learning_rate=0.001):\n",
    "        W1,W2,W3 = self.model['W1'],self.model['W2'],self.model['W3']\n",
    "        a1,a2,y_ = self.activation_outputs\n",
    "        \n",
    "        m=float(x.shape[0])\n",
    "        delta3=y_-y\n",
    "        \n",
    "        dw3=np.dot(a2.T,delta3)\n",
    "        db3=np.sum(delta3,axis=0)/m\n",
    "            \n",
    "        \n",
    "        delta2=(1-np.square(a2))*(np.dot(delta3,W3.T))\n",
    "        \n",
    "        dw2=np.dot(a1.T,delta2)\n",
    "        db2=np.sum(delta2,axis=0)/m\n",
    "        \n",
    "        delta1=(1-np.square(a1))*(np.dot(delta2,W2.T))\n",
    "        \n",
    "        dw1=np.dot(x.T,delta1)\n",
    "        db1=np.sum(delta1,axis=0)/m\n",
    "        \n",
    "        self.model['W1'] -= learning_rate*dw1\n",
    "        self.model['W2'] -= learning_rate*dw2\n",
    "        self.model['W3'] -= learning_rate*dw3\n",
    "        \n",
    "        self.model['b1'] -= learning_rate*db1\n",
    "        self.model['b2'] -= learning_rate*db2\n",
    "        self.model['b3'] -= learning_rate*db3\n",
    "        \n",
    "    def predict(self,x):\n",
    "        y_=self.forward(x)\n",
    "        \n",
    "        return np.argmax(y_,axis=1)\n",
    "    def summary(self):\n",
    "        W1,W2,W3 = self.model['W1'],self.model['W2'],self.model['W3']\n",
    "        a1,a2,y_ = self.activation_outputs\n",
    "        \n",
    "        print(\"W1 \",W1.shape)\n",
    "        print(\"A1 \",a1.shape)\n",
    "        \n",
    "        print(\"W2 \",W2.shape)\n",
    "        print(\"A2 \",a2.shape)\n",
    "        \n",
    "        print(\"W3 \",W3.shape)\n",
    "        print(\"Y_ \",y_.shape)\n",
    "        \n",
    "        \n",
    "        \n",
    "        \n",
    "        \n",
    "        "
   ]
  },
  {
   "cell_type": "code",
   "execution_count": 56,
   "id": "7840d1c2",
   "metadata": {},
   "outputs": [],
   "source": [
    "# we need to convert the y into one hot encoding\n",
    "\n",
    "def one_hot(y,depth):\n",
    "    m=y.shape[0]\n",
    "    y_oht=np.zeros((m,depth))\n",
    "    \n",
    "    y_oht[np.arange(m),y]=1\n",
    "    \n",
    "    return y_oht"
   ]
  },
  {
   "cell_type": "code",
   "execution_count": 57,
   "id": "1e0978fc",
   "metadata": {},
   "outputs": [],
   "source": [
    "def loss(y_oht,p):\n",
    "    l = -np.mean(y_oht*np.log(p))\n",
    "    return l    \n"
   ]
  },
  {
   "cell_type": "code",
   "execution_count": 58,
   "id": "a0b46f74",
   "metadata": {},
   "outputs": [],
   "source": [
    "def train(x,y,model,epocs):\n",
    "    losses=[]\n",
    "    \n",
    "    y_ohe=one_hot(y,3)\n",
    "    for ix in range(epocs):\n",
    "        y_=model.forward(x)\n",
    "        l=loss(y_ohe,y_)\n",
    "        \n",
    "        losses.append(l)\n",
    "        \n",
    "        model.backward(x,y_ohe)\n",
    "        if(ix%50==0):\n",
    "            print(\"Epoch %d Loss %.4f\"%(ix,l),end='\\n')\n",
    "    return losses"
   ]
  },
  {
   "cell_type": "code",
   "execution_count": 68,
   "id": "a41dc5ce",
   "metadata": {},
   "outputs": [],
   "source": [
    "model=NeuralNetwork(4800,[100,50],3)"
   ]
  },
  {
   "cell_type": "code",
   "execution_count": 60,
   "id": "482eb3af",
   "metadata": {},
   "outputs": [],
   "source": [
    "# flattening the images"
   ]
  },
  {
   "cell_type": "code",
   "execution_count": 61,
   "id": "47aa5df8",
   "metadata": {},
   "outputs": [
    {
     "name": "stdout",
     "output_type": "stream",
     "text": [
      "(333, 4800)\n",
      "(112, 4800)\n"
     ]
    }
   ],
   "source": [
    "x_train=x_train.reshape(x_train.shape[0],-1)\n",
    "print(x_train.shape)\n",
    "\n",
    "x_test=x_test.reshape(x_test.shape[0],-1)\n",
    "\n",
    "print(x_test.shape)"
   ]
  },
  {
   "cell_type": "code",
   "execution_count": 69,
   "id": "65e58aa1",
   "metadata": {},
   "outputs": [
    {
     "name": "stdout",
     "output_type": "stream",
     "text": [
      "Epoch 0 Loss 3.4216\n",
      "Epoch 50 Loss 0.6862\n",
      "Epoch 100 Loss 0.4367\n",
      "Epoch 150 Loss 0.6132\n",
      "Epoch 200 Loss 0.3255\n",
      "Epoch 250 Loss 0.2735\n",
      "Epoch 300 Loss 0.2604\n",
      "Epoch 350 Loss 0.2138\n",
      "Epoch 400 Loss 0.2942\n",
      "Epoch 450 Loss 0.1017\n"
     ]
    }
   ],
   "source": [
    "l=train(x_train,y_train,model,500)"
   ]
  },
  {
   "cell_type": "code",
   "execution_count": 70,
   "id": "b2527a7c",
   "metadata": {},
   "outputs": [
    {
     "data": {
      "image/png": "[encoded data removed]",
      "text/plain": [
       "<Figure size 432x288 with 1 Axes>"
      ]
     },
     "metadata": {
      "needs_background": "light"
     },
     "output_type": "display_data"
    }
   ],
   "source": [
    "plt.plot(l)\n",
    "plt.show()"
   ]
  },
  {
   "cell_type": "code",
   "execution_count": 73,
   "id": "be81f6a7",
   "metadata": {},
   "outputs": [
    {
     "name": "stdout",
     "output_type": "stream",
     "text": [
      "0.9309309309309309\n",
      "0.75\n"
     ]
    }
   ],
   "source": [
    "output_train=model.predict(x_train)\n",
    "train_acc=np.sum(output_train==y_train)/(y_train.shape[0])\n",
    "\n",
    "output_test=model.predict(x_test)\n",
    "test_acc=np.sum(output_test==y_test)/(y_test.shape[0])\n",
    "print(train_acc)\n",
    "print(test_acc)"
   ]
  },
  {
   "cell_type": "code",
   "execution_count": null,
   "id": "3631c559",
   "metadata": {},
   "outputs": [],
   "source": []
  }
 ],
 "metadata": {
  "kernelspec": {
   "display_name": "Python 3 (ipykernel)",
   "language": "python",
   "name": "python3"
  },
  "language_info": {
   "codemirror_mode": {
    "name": "ipython",
    "version": 3
   },
   "file_extension": ".py",
   "mimetype": "text/x-python",
   "name": "python",
   "nbconvert_exporter": "python",
   "pygments_lexer": "ipython3",
   "version": "3.9.7"
  }
 },
 "nbformat": 4,
 "nbformat_minor": 5
}
