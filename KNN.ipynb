{
 "cells": [
  {
   "cell_type": "code",
   "execution_count": 2,
   "id": "fb2130c1",
   "metadata": {},
   "outputs": [],
   "source": [
    "import numpy as np\n",
    "import matplotlib.pyplot as plt\n",
    "from sklearn import datasets"
   ]
  },
  {
   "cell_type": "code",
   "execution_count": 65,
   "id": "cb6c79b1",
   "metadata": {},
   "outputs": [],
   "source": [
    "x,y=datasets.make_blobs(centers=2,n_features=2,n_samples=500,random_state=4)"
   ]
  },
  {
   "cell_type": "code",
   "execution_count": 66,
   "id": "aeb20de5",
   "metadata": {},
   "outputs": [
    {
     "data": {
      "text/plain": [
       "(500, 2)"
      ]
     },
     "execution_count": 66,
     "metadata": {},
     "output_type": "execute_result"
    }
   ],
   "source": [
    "x.shape"
   ]
  },
  {
   "cell_type": "code",
   "execution_count": 68,
   "id": "c67cf127",
   "metadata": {},
   "outputs": [],
   "source": [
    "from sklearn.model_selection import train_test_split\n",
    "x_train,x_test,y_train,y_test=train_test_split(x,y)"
   ]
  },
  {
   "cell_type": "code",
   "execution_count": 95,
   "id": "af4eb188",
   "metadata": {},
   "outputs": [],
   "source": [
    "\n",
    "def euc_dist(x1,x2):\n",
    "    \n",
    "    return np.sqrt(((x1-x2)**2).sum())\n",
    "\n",
    "def KNN(x,y,test,k=20):\n",
    "    \n",
    "    dis=[]\n",
    "    \n",
    "    for i in range(x.shape[0]):\n",
    "        dis.append((euc_dist(x[i],test),y[i]))\n",
    "    dis=sorted(dis)\n",
    "    \n",
    "    dis=np.array(dis)\n",
    "    \n",
    "    dis=dis[:k]\n",
    "        \n",
    "    options=np.unique(dis[:,1],return_counts=True)\n",
    "    \n",
    "    f=int(options[0][np.argmax(options[1])])\n",
    "    return f\n",
    "    \n",
    "    "
   ]
  },
  {
   "cell_type": "code",
   "execution_count": 97,
   "id": "f6a87d28",
   "metadata": {},
   "outputs": [],
   "source": [
    "y_=[]\n",
    "\n",
    "for i in range(x_test.shape[0]):\n",
    "    y_.append(KNN(x_train,y_train,x_test[i]))\n",
    "\n",
    "acc=(y_==y_test).sum()/(y_test.shape[0])"
   ]
  },
  {
   "cell_type": "code",
   "execution_count": 98,
   "id": "df453acb",
   "metadata": {},
   "outputs": [
    {
     "data": {
      "text/plain": [
       "0.952"
      ]
     },
     "execution_count": 98,
     "metadata": {},
     "output_type": "execute_result"
    }
   ],
   "source": [
    "acc"
   ]
  },
  {
   "cell_type": "code",
   "execution_count": null,
   "id": "f6ca5250",
   "metadata": {},
   "outputs": [],
   "source": []
  }
 ],
 "metadata": {
  "kernelspec": {
   "display_name": "Python 3 (ipykernel)",
   "language": "python",
   "name": "python3"
  },
  "language_info": {
   "codemirror_mode": {
    "name": "ipython",
    "version": 3
   },
   "file_extension": ".py",
   "mimetype": "text/x-python",
   "name": "python",
   "nbconvert_exporter": "python",
   "pygments_lexer": "ipython3",
   "version": "3.9.7"
  }
 },
 "nbformat": 4,
 "nbformat_minor": 5
}
